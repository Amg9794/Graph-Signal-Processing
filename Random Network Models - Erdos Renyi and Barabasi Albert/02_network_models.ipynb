{
 "cells": [
  {
   "cell_type": "markdown",
   "metadata": {},
   "source": [
    "#  Assignment 2: network models\n"
   ]
  },
  {
   "cell_type": "markdown",
   "metadata": {},
   "source": [
    "For this assignment we will work on a network representing the collaboration between scientists in the field of General Relativity and Quantum Cosmology. The network comes from [SNAP](http://snap.stanford.edu/data/ca-GrQc.html) and is described as follows:\n",
    "\n",
    "> Arxiv GR-QC (General Relativity and Quantum Cosmology) collaboration network is from the e-print [arXiv](https://arxiv.org) and covers scientific collaborations between authors papers submitted to General Relativity and Quantum Cosmology category. If an author *i* co-authored a paper with author *j*, the graph contains a undirected edge from *i* to *j*. If the paper is co-authored by *k* authors this generates a completely connected (sub)graph on *k* nodes. The data covers papers in the period from January 1993 to April 2003 (124 months). It begins within a few months of the inception of the arXiv."
   ]
  },
  {
   "cell_type": "markdown",
   "metadata": {},
   "source": [
    "**Note** : I have modified the G.degree() codes in the second part for working with networkx 2.0 version , because I\n",
    "    had coded everything else according to that. Everything else remains the same. I hope it is not an inconvenience.'"
   ]
  },
  {
   "cell_type": "code",
   "execution_count": 1,
   "metadata": {
    "collapsed": true
   },
   "outputs": [],
   "source": [
    "%matplotlib inline\n",
    "\n",
    "import os\n",
    "import random\n",
    "import matplotlib.pyplot as plt\n",
    "import networkx as nx\n",
    "import numpy as np\n",
    "import warnings\n",
    "import math\n",
    "warnings.filterwarnings('ignore')"
   ]
  },
  {
   "cell_type": "code",
   "execution_count": 2,
   "metadata": {
    "collapsed": false
   },
   "outputs": [],
   "source": [
    "G = nx.read_edgelist(os.path.join('data', 'arxiv_collaboration_network.txt')) #Reading the network"
   ]
  },
  {
   "cell_type": "code",
   "execution_count": 3,
   "metadata": {
    "collapsed": false
   },
   "outputs": [
    {
     "name": "stdout",
     "output_type": "stream",
     "text": [
      "My network has 5242 nodes.\n",
      "My network has 14496 edges.\n"
     ]
    }
   ],
   "source": [
    "print('My network has {} nodes.'.format(len(G.nodes())))\n",
    "print('My network has {} edges.'.format(G.size()))\n",
    "\n"
   ]
  },
  {
   "cell_type": "code",
   "execution_count": 13,
   "metadata": {
    "collapsed": true
   },
   "outputs": [],
   "source": [
    "N = len(G.nodes())\n",
    "E = G.size()"
   ]
  },
  {
   "cell_type": "markdown",
   "metadata": {},
   "source": [
    "## 1. Comparing to model networks"
   ]
  },
  {
   "cell_type": "markdown",
   "metadata": {},
   "source": [
    "1.1 In this part of the assignment, you have to create an Erdős–Rényi and Barabási-Albert graph using NetworkX, and compare them to the collaboration network. Try to simulate the original network as best as you can. When choosing parameters for the networks, take into account the number of vertices and edges of the original network. The number of vertices should be exactly the same. Comment on your choice of parameters."
   ]
  },
  {
   "cell_type": "markdown",
   "metadata": {},
   "source": [
    "**Barabasi Albert Model**\n",
    "I have reimplemented the model instead of using the library function : `nx.barabasi_albert_model(num_nodes,num_nodex_per_iter)` because \n",
    "- It allowed me get my understanding of the process crystal clear.\n",
    "- It allows me to tune one of the three parameters from m0,m and t. I've tuned m to get a close enough value of giant component.\n",
    "- It is a fun coding exercise :)"
   ]
  },
  {
   "cell_type": "code",
   "execution_count": 14,
   "metadata": {
    "collapsed": false,
    "scrolled": true
   },
   "outputs": [],
   "source": [
    "#To genererate a BA model with given paras\n",
    "def generate_barabasi_albert(M0,t,m,verbose = False): #t is N-M0, m = math.ceil((E-M0)/t)\n",
    "    M = nx.Graph()\n",
    "    N = t + M0\n",
    "    M.add_nodes_from(range(M0))       \n",
    "    nodes = list(range(M0))\n",
    "    random.shuffle(nodes)      #So that there is no pattern since otherwise loop will visit the nodes in the same order\n",
    "    for i in nodes:        #initializing the M0 nodes\n",
    "        if(len(M[i]) != 0):      #Pass if it already have at least one edge\n",
    "            continue\n",
    "        target = np.random.randint(M0)   #Choose the target randomly\n",
    "        while(target == i): #Avoiding self loops\n",
    "            target = np.random.randint(M0)\n",
    "        M.add_edge(i,target)    #adding the edge\n",
    "    for n in range(M0,N):  #Now, adding the remaining nodes\n",
    "        M.add_node(n)        \n",
    "        if(verbose):     #For debugging or tracking progress since BA model can take time to create\n",
    "            if(n%100 == 0):\n",
    "                print(n)\n",
    "        sum_edges = 2*M.size()     #Total links\n",
    "        dist = [len(M[i])/sum_edges for i in list(range(n))] #Calculating the probability distribution\n",
    "        for j in range(m):\n",
    "            M.add_edge(n,np.random.choice(list(range(n)), p = dist)) #choosing the target nodes with weighed dist. and adding edge\n",
    "    return M"
   ]
  },
  {
   "cell_type": "markdown",
   "metadata": {},
   "source": [
    "** 34x Speedup! On Erdos Renyi Graph self implementation compared to naive implementation**\n",
    "\n",
    "Using Numpy's array operations and slicing instead of 1 by 1 iteration through  N choose 2 pairs, a massive speedup is obtained with the below function executing in just **28 seconds** for given N comparated to **1003 seconds ~ 17 minutes** for the naive slow one at p = 0.01 and is even sometimes a bit faster than the inbuilt function `nx.erdos_renyi(num_nodes,probability)`.\n",
    "\n",
    "It does away with the inner loop of the slow function using numpy slicing and zip"
   ]
  },
  {
   "cell_type": "code",
   "execution_count": 15,
   "metadata": {
    "collapsed": false
   },
   "outputs": [],
   "source": [
    "def generate_erdos_renyi(N,pr):        #Fast ER model/\n",
    "    er = nx.Graph()\n",
    "    er.add_nodes_from(range(N))\n",
    "    for i in range(N):\n",
    "        nodes = np.array(list(range(i+1,N)))\n",
    "        decision = np.random.choice(2,N-i-1,p = [1-pr,pr])    #Choose the next N-i-1 at once\n",
    "        decision = nodes[decision == 1]         \n",
    "        er.add_edges_from(zip([i]*len(decision),decision)) #Add the edges\n",
    "    return er\n",
    "\n",
    "def generate_erdos_renyi_slow(N,pr): #Naive implementation\n",
    "    er = nx.Graph()\n",
    "    er.add_nodes_from(range(N))     #add all the nodes with 0 eadges at start\n",
    "    #start = time.time()\n",
    "    for i in range(N):            \n",
    "        if(i%100 == 0):             #Again this can be very slow, to track progress\n",
    "            print(i)\n",
    "        for j in range(i+1,N):      #for the nodes ahead in list\n",
    "            decision = np.random.choice(2,p = [1-pr,pr])    #Choose 1 nde and repeat. This loop is implicit in fast.\n",
    "            if(decision):\n",
    "                er.add_edge(i,j)   #Adding the edge\n",
    "#   print(time.time()-start)\n",
    "    return(er)"
   ]
  },
  {
   "cell_type": "code",
   "execution_count": 16,
   "metadata": {
    "collapsed": false
   },
   "outputs": [
    {
     "name": "stdout",
     "output_type": "stream",
     "text": [
      "2000 3242 4\n"
     ]
    }
   ],
   "source": [
    "M0 = 2000   #The free parameter \n",
    "t = N - M0                        #all other params are fixed\n",
    "m = math.ceil((E - M0)/t)           #Calculating all other params\n",
    "# print(M0, t, m)\n",
    "ba =  generate_barabasi_albert(M0,t,m,verbose = False)     #Fetching the models\n",
    "er = generate_erdos_renyi(N,2*E/(N*(N-1)))    #The p is such that Expected edges is same. Explained below."
   ]
  },
  {
   "cell_type": "markdown",
   "metadata": {},
   "source": [
    "**Parameter for Erdos Renyi**:\n",
    "\n",
    "I match the number of vertices and the expected number of edges. So, N = 5242 is the number of nodes and \n",
    "as, <center>\n",
    "$\\mathbb{E}[\\text{# Edges}] = {n \\choose 2}\\frac{p}{2}$\n",
    "$p = \\frac{2\\mathbb{E}[\\text{# Edges}]}{n \\choose 2}$\n",
    "\n",
    "So, putting $p = \\frac{14496*2}{5242*5241}$\n",
    "\n",
    "**Parameter for Barabasi Albert Model**\n",
    "The parameter t and m are determined from m as follows:\n",
    "<center>\n",
    "$\n",
    "t = N - M0 \\\\\n",
    "m = \\lceil\\frac{N-M0}{t}\\rceil\n",
    "$\n",
    "</center>\n",
    "with M0 as free parameter which is tuned to get a close enough Giant component size."
   ]
  },
  {
   "cell_type": "code",
   "execution_count": 17,
   "metadata": {
    "collapsed": false
   },
   "outputs": [
    {
     "name": "stdout",
     "output_type": "stream",
     "text": [
      "My Erdős–Rényi network has 5242 nodes.\n",
      "My Erdős–Rényi network has 14409 edges.\n",
      "My Barabási-Albert network has 5242 nodes.\n",
      "My Barabási-Albert network has 14350 edges.\n"
     ]
    }
   ],
   "source": [
    "print('My Erdős–Rényi network has {} nodes.'.format(len(er.nodes())))\n",
    "print('My Erdős–Rényi network has {} edges.'.format(er.size()))\n",
    "print('My Barabási-Albert network has {} nodes.'.format(len(ba.nodes())))\n",
    "print('My Barabási-Albert network has {} edges.'.format(ba.size()))"
   ]
  },
  {
   "cell_type": "markdown",
   "metadata": {},
   "source": [
    "1.2 Check the size of the largest connected component in each graph and compare them to the original network. In the Erdős–Rényi model, what should the probability of creating each edge be in order to have the same expected size of the largest component? Justify. Generate a graph with this parameter to check if you indeed get a similar value."
   ]
  },
  {
   "cell_type": "code",
   "execution_count": 19,
   "metadata": {
    "collapsed": false
   },
   "outputs": [
    {
     "name": "stdout",
     "output_type": "stream",
     "text": [
      "4158\n",
      "5219\n",
      "5176\n"
     ]
    }
   ],
   "source": [
    "#Comparing the size of the Giant Components of the three graphs. One of the properties. \n",
    "\n",
    "giant_G = max(nx.connected_component_subgraphs(G), key=len)\n",
    "giant_er = max(nx.connected_component_subgraphs(er), key=len)\n",
    "giant_ba = max(nx.connected_component_subgraphs(ba), key=len)\n",
    "print(len(giant_G.nodes()))\n",
    "print(len(giant_er.nodes()))\n",
    "print(len(giant_ba.nodes()))"
   ]
  },
  {
   "cell_type": "markdown",
   "metadata": {},
   "source": [
    "**Calculation of parameters for Erdos - Renyi Graph**\n",
    "$$\n",
    "\\mathbb{S} = \\frac{N_{giant}}{N} \\\\\n",
    "\\mathbb{S} = 1 - e^{-<k>\\mathbb{S}} \\\\\n",
    "<k> \\ = \\ -\\frac{\\log(1-\\mathbb{S})}{\\mathbb{S}}\n",
    "$$\n",
    "\n",
    "As <k> = $\\frac{N-1}{2}$, So,\n",
    "<center>\n",
    "$\\Rightarrow p = -\\frac{\\log(1-\\mathbb{S})}{\\mathbb{S}}*\\frac{1}{N-1}$"
   ]
  },
  {
   "cell_type": "code",
   "execution_count": 20,
   "metadata": {
    "collapsed": false
   },
   "outputs": [
    {
     "name": "stdout",
     "output_type": "stream",
     "text": [
      "The parameter p for an Erdős–Rényi network with the same expected size of the giant component is 0.0003791115720251492.\n",
      "The size of the component in a randomly generated network with this parameter is 4166.\n"
     ]
    }
   ],
   "source": [
    "s = len(giant_G.nodes())/N\n",
    "p_giant = (-math.log(1-s)/s)/(N-1) #Calculating as explained above\n",
    "print('The parameter p for an Erdős–Rényi network with the same expected size of the giant component is {}.'.format(p_giant))\n",
    "\n",
    "er = generate_erdos_renyi(N,p_giant)  #generating ER model with that param\n",
    "er_giant = max(nx.connected_component_subgraphs(er), key=len)\n",
    "print('The size of the component in a randomly generated network with this parameter is {}.'.format(len(er_giant.nodes())))"
   ]
  },
  {
   "cell_type": "markdown",
   "metadata": {},
   "source": [
    "1.3 Look at the clustering coefficient of the original network. Is there a network model we talked about that could have a clustering coefficient that is close? Explain."
   ]
  },
  {
   "cell_type": "code",
   "execution_count": 21,
   "metadata": {
    "collapsed": false
   },
   "outputs": [
    {
     "data": {
      "text/plain": [
       "0.5296358110521372"
      ]
     },
     "execution_count": 21,
     "metadata": {},
     "output_type": "execute_result"
    }
   ],
   "source": [
    "nx.average_clustering(G)"
   ]
  },
  {
   "cell_type": "markdown",
   "metadata": {},
   "source": [
    "**Yes, the  Watts-Strogratz network model** as high as this. "
   ]
  },
  {
   "cell_type": "code",
   "execution_count": 28,
   "metadata": {
    "collapsed": false
   },
   "outputs": [
    {
     "name": "stdout",
     "output_type": "stream",
     "text": [
      "0.5566128252602868\n"
     ]
    }
   ],
   "source": [
    " # A Watts-Strogatz network at k=8 with p = 0.05\n",
    "ws = nx.watts_strogatz_graph(N, 8, 0.05)\n",
    "\n",
    "#Check the clusterin coefficient\n",
    "print(nx.average_clustering(ws)) "
   ]
  },
  {
   "cell_type": "markdown",
   "metadata": {},
   "source": [
    "So, the clustering coefficient is 0.55 which is much closer to that of the graph and also much higher than the barabasi albert \n",
    "and erdos renyi model. "
   ]
  },
  {
   "cell_type": "markdown",
   "metadata": {},
   "source": [
    "## 2. Creating a network with a predefined degree distribution"
   ]
  },
  {
   "cell_type": "markdown",
   "metadata": {},
   "source": [
    "In this part of the assignment, you will have to create a random network from a predefined degree distribution. There are several network models which can create a random network with the exact same degree distribution as the original, or with the same expected distribution as the original. Refer to section 4.8 of [the Barabási book](http://networksciencebook.com) for more information."
   ]
  },
  {
   "cell_type": "markdown",
   "metadata": {},
   "source": [
    "One of the most famous ones is the configuration model. The model for a graph with $L$ edges in total is constructed in the following steps:\n",
    "\n",
    "- Assign a degree to each node, represented as stubs (half-links). The degree sequence is either generated analytically from a preselected distribution, or it is extracted from the adjacency matrix of a real network. Note that we must start from an even number of stubs to avoid being left with unpaired stubs.\n",
    "- Randomly select a stub pair and connect them. Then randomly choose another pair from the remaining $2L - 2$ stubs and connect them. This procedure is repeated until all stubs are paired up.\n",
    "\n",
    "*Reminder:* A stub is a half-link, representing the half of an edge. It contains one node and can be paired up with another stub to create an edge (between the two corresponding nodes)."
   ]
  },
  {
   "cell_type": "markdown",
   "metadata": {},
   "source": [
    "2.1 However, this model allows for the creation of multi-links (multiple edges between the same pair of vertices) and self-loops, thus leading to a non-simple graph. In this assignment, you will implement a greedy configuration model, to avoid these problems.\n",
    "\n",
    "The algorithm goes as follows:\n",
    "- Extract the degree sequence from our collaboration network.\n",
    "- Assign a target degree to each node, represented as stubs or half-links. Use the degree sequence extracted from the collaboration network.\n",
    "- Sort the nodes by degree. \n",
    "    - Pick the node with the highest target degree. Delete all its stubs from the list of stubs to make sure we don't create a self loop.\n",
    "    - Until all its weighted degree equals its target degree: \n",
    "        - Randomly select one stub from the list of stubs (corresponding to one of the other nodes), and connect these two nodes. In case the two chosen nodes are already connected, simply increase the weight of this edge by one. Be careful to randomly select from stubs and not from nodes, as this means the chances of selecting a node will be proportional to its target degree.\n",
    "    - When the number of edges adjacent to this node corresponds to its target degree, go on to the second node in the list. \n",
    "    - Repeate this procedure until all stubs are paired up, or there is only one node left with a pair number of stubs. In that case, don't create a self-loop, but discard the stubs.\n",
    "    \n",
    "*Hints*: \n",
    " - Use `nx.empty_graph()` to create an empty graph.\n",
    " - Use `G.add_edge(node1,node2,weight = 1)` to add an edge to a weighted graph.\n",
    " - Use `G.edge[node1][node2]['weight'] += 1` to increment the weight of an edge by one."
   ]
  },
  {
   "cell_type": "code",
   "execution_count": 33,
   "metadata": {
    "collapsed": false
   },
   "outputs": [],
   "source": [
    "def greedy_configuration(degree_distribution):\n",
    "    degree_distribution = np.array(degree_distribution) #Required for slicing later\n",
    "    PP = nx.empty_graph() \n",
    "    for i,degree in enumerate(degree_distribution):  #Getting the node number for adding edge and degree\n",
    "        if(len(degree_distribution[i+1:]) == 1):  #Ignoring the last node left, although the last also happens to have 0 stubs left at end\n",
    "            break\n",
    "        for _ in range(degree):   #Adding the number of stubs left at the node one by one\n",
    "            #Chosen is taken from the discrete probability distribution with weights proportional to number of stubs left\n",
    "            chosen = np.random.choice(range(len(degree_distribution[i+1:])), p = degree_distribution[i+1:]/sum(degree_distribution[i+1:]))\n",
    "            \n",
    "            chosen += i+1 #Since it is chose from array after the ith index. Adding i for index in original array\n",
    "            \n",
    "            while(degree_distribution[chosen] == 0): #Since a future chosen node can have no stubs left\n",
    "                                                    #Rechoosing in that case. In typical run of code, this doesn't happen\n",
    "                #again choosing from the stubs left weighed distribution\n",
    "                chosen = np.random.choice(range(len(degree_distribution[i+1:])), p = degree_distribution[i+1:]/sum(degree_distribution[i+1:]))\n",
    "                chosen += i+1 #To get the index in original array\n",
    "                \n",
    "            degree_distribution[chosen] -= 1 #decreasing the number of stubs left by 1 for the chosen (for current it is anyway in loop)\n",
    "            \n",
    "            if(PP.has_edge(i,chosen)):   #Either increasing the weight or adding the dge if it is absent\n",
    "                PP.get_edge_data(i,chosen)['weight'] += 1\n",
    "            else:\n",
    "                PP.add_edge(i,chosen , weight = 1)\n",
    "    return PP"
   ]
  },
  {
   "cell_type": "code",
   "execution_count": 34,
   "metadata": {
    "collapsed": false
   },
   "outputs": [],
   "source": [
    "d = [j for i,j in list(nx.degree(G))] #Change the code since my version of networkx is 2.0\n",
    "degree_distribution=sorted(d,reverse=True) # degree distribution sorted from highest to lowest\n",
    "gc = greedy_configuration(degree_distribution)"
   ]
  },
  {
   "cell_type": "code",
   "execution_count": 36,
   "metadata": {
    "collapsed": false
   },
   "outputs": [
    {
     "name": "stdout",
     "output_type": "stream",
     "text": [
      "My network has 5242 nodes.\n",
      "My network has 14496.0 edges.\n"
     ]
    }
   ],
   "source": [
    "print('My network has {} nodes.'.format(len(gc.nodes())))\n",
    "print('My network has {} edges.'.format(gc.size(weight='weight')))"
   ]
  },
  {
   "cell_type": "markdown",
   "metadata": {},
   "source": [
    "2.2 Verify that the networks have the same number of nodes. Plot the difference between the weighted degree distributions to verify that they are identical. If not, why?"
   ]
  },
  {
   "cell_type": "code",
   "execution_count": 37,
   "metadata": {
    "collapsed": false
   },
   "outputs": [
    {
     "name": "stdout",
     "output_type": "stream",
     "text": [
      "Sum of modulus of elements that differ between the two graphs is  0\n"
     ]
    }
   ],
   "source": [
    "d_temp = [j for i,j in list(nx.degree(G))]  #Changed accordint ot networkx 2.0 version\n",
    "degree_sequence_gc=sorted(d_temp,reverse=True) #weighted degree distribution\n",
    "difference = abs(np.array(degree_distribution) - np.array(degree_sequence_gc))  #The abs deiff of elements\n",
    "print('Sum of modulus of elements that differ between the two graphs is ',np.sum(difference))"
   ]
  },
  {
   "cell_type": "markdown",
   "metadata": {},
   "source": [
    "**YES** , the two graphs have the same degree distributions as can be verified by the sum of the absolute difference of corresponding elements of degree lists. If two degrees for any of the nodes differ, then the corresposnding sum would have been **non-zero**. So, verifid as desired"
   ]
  },
  {
   "cell_type": "markdown",
   "metadata": {},
   "source": [
    "2.3 Should these two networks have the same adjacency matrices? Justify."
   ]
  },
  {
   "cell_type": "markdown",
   "metadata": {},
   "source": [
    "**NO** .Even visually, we can see that they are different. But, later this can aso be shown analytically"
   ]
  },
  {
   "cell_type": "code",
   "execution_count": 38,
   "metadata": {
    "collapsed": false
   },
   "outputs": [
    {
     "data": {
      "text/plain": [
       "<matplotlib.lines.Line2D at 0x3c74e37f60>"
      ]
     },
     "execution_count": 38,
     "metadata": {},
     "output_type": "execute_result"
    },
    {
     "data": {
      "image/png": "[encoded data removed]",
      "text/plain": [
       "<matplotlib.figure.Figure at 0x3c6c52ef28>"
      ]
     },
     "metadata": {},
     "output_type": "display_data"
    }
   ],
   "source": [
    "plt.spy(nx.adjacency_matrix(G)) #Visulazing (Just to see visual differences)"
   ]
  },
  {
   "cell_type": "code",
   "execution_count": 39,
   "metadata": {
    "collapsed": false
   },
   "outputs": [
    {
     "data": {
      "text/plain": [
       "<matplotlib.lines.Line2D at 0x3c69ee7e80>"
      ]
     },
     "execution_count": 39,
     "metadata": {},
     "output_type": "execute_result"
    },
    {
     "data": {
      "image/png": "[encoded data removed]",
      "text/plain": [
       "<matplotlib.figure.Figure at 0x3c72694908>"
      ]
     },
     "metadata": {},
     "output_type": "display_data"
    }
   ],
   "source": [
    "plt.spy(nx.adjacency_matrix(gc))"
   ]
  },
  {
   "cell_type": "code",
   "execution_count": 40,
   "metadata": {
    "collapsed": false
   },
   "outputs": [
    {
     "name": "stdout",
     "output_type": "stream",
     "text": [
      "Percentage of the adjacency matrix that differs  0.210294832001\n"
     ]
    }
   ],
   "source": [
    "print('Percentage of the adjacency matrix that differs ', \n",
    "      100*(np.sum((nx.adjacency_matrix(G) - nx.adjacency_matrix(gc)) != 0))/N**2)"
   ]
  },
  {
   "cell_type": "markdown",
   "metadata": {},
   "source": [
    "So, clearly, while being mostly similar they are **NOT EXCATLY** the same. This is expected since, while the second graph has the same degree for each node, this only constrains the sum of the elements of each row od the adjacency matrix. The individual elements of the each row are chosen by the random process and are free to vary as long as the sum remains the same. \n",
    "\n",
    "On a higher level, the structure differs because of the property of **preferential attachment** in the network construction process as explained in the next graph."
   ]
  },
  {
   "cell_type": "markdown",
   "metadata": {},
   "source": [
    "2.4 Draw both the generated and original networks. Are they similar? If not, why? Try to explain."
   ]
  },
  {
   "cell_type": "code",
   "execution_count": 41,
   "metadata": {
    "collapsed": false
   },
   "outputs": [
    {
     "data": {
      "image/png": "[encoded data removed]",
      "text/plain": [
       "<matplotlib.figure.Figure at 0x3c73baa860>"
      ]
     },
     "metadata": {},
     "output_type": "display_data"
    }
   ],
   "source": [
    "nx.draw(G)"
   ]
  },
  {
   "cell_type": "code",
   "execution_count": 42,
   "metadata": {
    "collapsed": false
   },
   "outputs": [
    {
     "data": {
      "image/png": "[encoded data removed]",
      "text/plain": [
       "<matplotlib.figure.Figure at 0x3c701df278>"
      ]
     },
     "metadata": {},
     "output_type": "display_data"
    }
   ],
   "source": [
    "nx.draw(gc)"
   ]
  },
  {
   "cell_type": "markdown",
   "metadata": {},
   "source": [
    "Clearly, the two graphs are not similar in structure. We can check the size of the giant component first :"
   ]
  },
  {
   "cell_type": "code",
   "execution_count": 43,
   "metadata": {
    "collapsed": false
   },
   "outputs": [
    {
     "name": "stdout",
     "output_type": "stream",
     "text": [
      "Number of nodes inside giant component of The Original graph 4158 and outside it is  1084\n",
      "Number of nodes inside giant component of The created graph 5200 and outside it is  42\n"
     ]
    }
   ],
   "source": [
    "giant_G = max(nx.connected_component_subgraphs(G), key=len)\n",
    "giant_gc = max(nx.connected_component_subgraphs(gc), key=len)\n",
    "print('Number of nodes inside giant component of The Original graph', len(giant_G.nodes()) ,\n",
    "                                                                          'and outside it is ', N- len(giant_G.nodes() ))\n",
    "print('Number of nodes inside giant component of The created graph', len(giant_gc.nodes() ),\n",
    "                                                                         'and outside it is ', N- len(giant_gc.nodes()))\n"
   ]
  },
  {
   "cell_type": "markdown",
   "metadata": {},
   "source": [
    "The size of the giant component is much larger in our created grpah because of the property of **preferential attachment** induced by selecting the node on the basis of the number o free stubs left thus creating bigger connected component. The other smaller reason is tat the econd graph is weighed and thus some of the links are actually more \"stronger\" than the others but they of course, doon't affect the property except for reducing the number of unique links. \n",
    "\n",
    "**However** , this effect is small as can be seen below:"
   ]
  },
  {
   "cell_type": "code",
   "execution_count": 44,
   "metadata": {
    "collapsed": false
   },
   "outputs": [
    {
     "data": {
      "text/plain": [
       "0.4086721618064695"
      ]
     },
     "execution_count": 44,
     "metadata": {},
     "output_type": "execute_result"
    }
   ],
   "source": [
    "100*(gc.size(weight = 'weight') - gc.size() )/ gc.size()"
   ]
  },
  {
   "cell_type": "markdown",
   "metadata": {},
   "source": [
    "Thus only `0.45%` of the unique links have weight more than 1 and so this is a small factor."
   ]
  },
  {
   "cell_type": "markdown",
   "metadata": {},
   "source": [
    "2.5 Do you expect the properties studied in the first part of the assignment to be close to the original graph? Justify."
   ]
  },
  {
   "cell_type": "markdown",
   "metadata": {},
   "source": [
    "**Not really**. We have already looked at the Giant component size which is pretty different. The number of nodes and edges are designmed to be the same/close and so he avergae number of links are also close"
   ]
  },
  {
   "cell_type": "code",
   "execution_count": 45,
   "metadata": {
    "collapsed": false
   },
   "outputs": [
    {
     "name": "stdout",
     "output_type": "stream",
     "text": [
      "Average Clustering coefficients\n",
      "Original Graph 0.5296358110521372\n",
      "Barabasi Albert Model 0.0009729988723836835\n",
      "Erdos Renyi model 0.00010174233753020476\n"
     ]
    }
   ],
   "source": [
    "print('Average Clustering coefficients')\n",
    "print('Original Graph',nx.average_clustering(G))\n",
    "print('Barabasi Albert Model',nx.average_clustering(ba))\n",
    "print('Erdos Renyi model',nx.average_clustering(er))"
   ]
  },
  {
   "cell_type": "markdown",
   "metadata": {},
   "source": [
    "Again, even the order of magnitude of the clustering coefficients are different. So, \n",
    "the models in first part are not a good approximation of the original graph"
   ]
  }
 ],
 "metadata": {
  "kernelspec": {
   "display_name": "Python 3",
   "language": "python",
   "name": "python3"
  },
  "language_info": {
   "codemirror_mode": {
    "name": "ipython",
    "version": 3
   },
   "file_extension": ".py",
   "mimetype": "text/x-python",
   "name": "python",
   "nbconvert_exporter": "python",
   "pygments_lexer": "ipython3",
   "version": "3.5.3"
  }
 },
 "nbformat": 4,
 "nbformat_minor": 2
}
